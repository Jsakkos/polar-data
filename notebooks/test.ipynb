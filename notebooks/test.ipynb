{
 "cells": [
  {
   "cell_type": "code",
   "execution_count": 1,
   "id": "91c39a02",
   "metadata": {},
   "outputs": [],
   "source": [
    "import json\n",
    "import pandas as pd\n",
    "from pathlib import Path"
   ]
  },
  {
   "cell_type": "code",
   "execution_count": 2,
   "id": "a44765ad",
   "metadata": {},
   "outputs": [],
   "source": [
    "DIR = Path(r'../data/user_data')"
   ]
  },
  {
   "cell_type": "code",
   "execution_count": 5,
   "id": "5911b941",
   "metadata": {},
   "outputs": [],
   "source": [
    "files=sorted(DIR.glob('training-session*.json'))"
   ]
  },
  {
   "cell_type": "code",
   "execution_count": 7,
   "id": "27f5a4f4",
   "metadata": {},
   "outputs": [],
   "source": [
    "file = files[0]"
   ]
  },
  {
   "cell_type": "code",
   "execution_count": 23,
   "id": "9416e4a0",
   "metadata": {},
   "outputs": [],
   "source": [
    "from datetime import datetime\n",
    "def polar_datetime_to_python_datetime_str(polar_dt):\n",
    "    new_dt = polar_dt.replace('T', ' ')\n",
    "    date_time_obj = datetime.strptime(new_dt, '%Y-%m-%d %H:%M:%S.%f')\n",
    "\n",
    "    return date_time_obj.strftime('%Y-%m-%d+%H_%M_%S_%f')"
   ]
  },
  {
   "cell_type": "code",
   "execution_count": 41,
   "id": "d60a2dff",
   "metadata": {},
   "outputs": [],
   "source": [
    "dfs = list()\n",
    "for file in files:\n",
    "    with open(file, 'r') as f:\n",
    "        data = json.load(f)\n",
    "        if 'kiloCalories' in data.keys():\n",
    "            dfs.append(pd.DataFrame([[data['kiloCalories'],polar_datetime_to_python_datetime_str(data['exercises'][0]['startTime']).split('+')[0]]],columns=['Calories','Date']))\n",
    "\n",
    "df = pd.concat(dfs)"
   ]
  },
  {
   "cell_type": "code",
   "execution_count": 40,
   "id": "bc446f26",
   "metadata": {},
   "outputs": [
    {
     "data": {
      "text/plain": [
       "'2022-01-27'"
      ]
     },
     "execution_count": 40,
     "metadata": {},
     "output_type": "execute_result"
    }
   ],
   "source": [
    "polar_datetime_to_python_datetime_str(data['exercises'][0]['startTime']).split('+')[0]"
   ]
  },
  {
   "cell_type": "code",
   "execution_count": 43,
   "id": "a76e272f",
   "metadata": {},
   "outputs": [],
   "source": [
    "df['Date']=pd.to_datetime(df['Date'])"
   ]
  },
  {
   "cell_type": "code",
   "execution_count": 45,
   "id": "b6eaabd0",
   "metadata": {},
   "outputs": [
    {
     "data": {
      "text/plain": [
       "<AxesSubplot:xlabel='Date', ylabel='Calories'>"
      ]
     },
     "execution_count": 45,
     "metadata": {},
     "output_type": "execute_result"
    },
    {
     "data": {
      "image/png": "[encoded data removed]",
      "text/plain": [
       "<Figure size 432x288 with 1 Axes>"
      ]
     },
     "metadata": {
      "needs_background": "light"
     },
     "output_type": "display_data"
    }
   ],
   "source": [
    "import matplotlib.pyplot as plt\n",
    "import seaborn as sns\n",
    "sns.scatterplot(x='Date',y='Calories',data=df)"
   ]
  }
 ],
 "metadata": {
  "interpreter": {
   "hash": "65eed4a49fb766f51fc64e473c9dd150f6dc91eaeb26f13a9c791029e5c8dac3"
  },
  "kernelspec": {
   "display_name": "Python 3.9.6 64-bit",
   "name": "python3"
  },
  "language_info": {
   "codemirror_mode": {
    "name": "ipython",
    "version": 3
   },
   "file_extension": ".py",
   "mimetype": "text/x-python",
   "name": "python",
   "nbconvert_exporter": "python",
   "pygments_lexer": "ipython3",
   "version": "3.8.5"
  }
 },
 "nbformat": 4,
 "nbformat_minor": 5
}
